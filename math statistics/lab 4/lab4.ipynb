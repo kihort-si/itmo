{
  "nbformat": 4,
  "nbformat_minor": 0,
  "metadata": {
    "colab": {
      "provenance": []
    },
    "kernelspec": {
      "name": "python3",
      "display_name": "Python 3"
    },
    "language_info": {
      "name": "python"
    }
  },
  "cells": [
    {
      "cell_type": "markdown",
      "source": [
        "# Математическая статистика. Лабораторная работа №4. Васильев Н. А., Елисеев К. И."
      ],
      "metadata": {
        "id": "MtA-6ApJbCGD"
      }
    },
    {
      "cell_type": "markdown",
      "source": [
        "# Задание №1"
      ],
      "metadata": {
        "id": "5gaOebEoVzCf"
      }
    },
    {
      "cell_type": "code",
      "source": [
        "!pip install -q gdown\n",
        "import gdown\n",
        "\n",
        "file_id = \"1cx0pshptDSVmaWLJCBGS9jIIJ2g-VRgT\"\n",
        "file = \"kc_house_data\"\n",
        "\n",
        "gdown.download(f\"https://drive.google.com/uc?id={file_id}\", file, quiet=False)\n",
        "\n",
        "import pandas as pd\n",
        "\n",
        "df = pd.read_csv(file)"
      ],
      "metadata": {
        "colab": {
          "base_uri": "https://localhost:8080/"
        },
        "id": "Locr-_Hhx0x8",
        "outputId": "c921259c-dda4-4e86-b6c9-ae65dc9ba185"
      },
      "execution_count": null,
      "outputs": [
        {
          "output_type": "stream",
          "name": "stderr",
          "text": [
            "Downloading...\n",
            "From: https://drive.google.com/uc?id=1cx0pshptDSVmaWLJCBGS9jIIJ2g-VRgT\n",
            "To: /content/kc_house_data\n",
            "100%|██████████| 2.52M/2.52M [00:00<00:00, 132MB/s]\n"
          ]
        }
      ]
    },
    {
      "cell_type": "markdown",
      "source": [
        "Линейная регрессия моделирует зависимость целевой переменной\n",
        "\\\\(y\\\\) (цена недвижимости) от независимых переменных \\\\(x_1\\\\), \\\\(x_2\\\\), \\\\(x_3\\\\) (жилая площадь, soft_lot, soft_above) и свободного коэффициента \\\\(β_0\\\\).\n",
        "\n",
        "Модель имеет вид:\n",
        "\n",
        "$$\n",
        "y=β_0+β_1x_1+β_2x_2+β_3x_3+ɛ\n",
        "$$\n",
        "\n",
        "где: \\\\(β_0\\\\) — свободный коэффициент (интерцепт), \\\\(β_1\\\\), \\\\(β_2\\\\), \\\\(β_3\\\\) — коэффициенты при независимых переменных, \\\\(ɛ\\\\) — случайная ошибка (нормально распределённая с нулевым средним) ($ε​∼\\mathcal N(0,σ^2)$).\n",
        "\n",
        "Параметры \\\\(β_0\\\\), \\\\(β_1\\\\), \\\\(β_2\\\\), \\\\(β_3\\\\) оцениваются методом наименьших квадратов (МНК), который минимизирует сумму квадратов остатков:\n",
        "\n",
        "$$\n",
        "RSS=\\sum_{i=1}^{n}(y_i-\\hat{y}_i)^2\n",
        "$$\n",
        "\n",
        "где \\\\(\\hat{y}_i=β_0+β_1x_{1i}+β_2x_{2i}+β_3x_{3i}\\\\)"
      ],
      "metadata": {
        "id": "nJ_UYlA2zWVz"
      }
    },
    {
      "cell_type": "code",
      "source": [
        "import numpy as np\n",
        "\n",
        "X = df[['sqft_living', 'sqft_lot', 'sqft_above']].values\n",
        "y = df['price'].values.reshape(-1, 1)\n",
        "\n",
        "X_with_const = np.column_stack([np.ones(X.shape[0]), X])\n",
        "\n",
        "XTX = np.dot(X_with_const.T, X_with_const)\n",
        "XTX_inv = np.linalg.inv(XTX)\n",
        "XTY = np.dot(X_with_const.T, y)\n",
        "coefficients = np.dot(XTX_inv, XTY)\n",
        "\n",
        "results = pd.DataFrame({\n",
        "    'Коэффициент': coefficients.flatten()\n",
        "}, index=['Intercept', 'sqft_living', 'sqft_lot', 'sqft_above'])\n",
        "\n",
        "print(\"\\nКоэффициенты:\")\n",
        "print(results)"
      ],
      "metadata": {
        "colab": {
          "base_uri": "https://localhost:8080/"
        },
        "id": "50tdpYKr1zHT",
        "outputId": "35578c87-9e4f-4146-ef13-076ea502c710"
      },
      "execution_count": 18,
      "outputs": [
        {
          "output_type": "stream",
          "name": "stdout",
          "text": [
            "\n",
            "Коэффициенты:\n",
            "              Коэффициент\n",
            "Intercept   -41445.123606\n",
            "sqft_living    296.151642\n",
            "sqft_lot        -0.278184\n",
            "sqft_above     -16.903431\n"
          ]
        }
      ]
    },
    {
      "cell_type": "markdown",
      "source": [
        "Остаточная дисперсия (несмещённая оценка дисперсии ошибок $\\sigma^2$) вычисляется по формуле:\n",
        "\n",
        "$$\n",
        "\\hat{\\sigma}^2 = \\frac{\\text{RSS}}{n - k - 1},\n",
        "$$\n",
        "\n",
        "где: \\\\(RSS = \\sum_{i=1}^n (y_i - \\hat{y}_i)^2\\\\) — сумма квадратов остатков, \\\\(n\\\\) — количество наблюдений, \\\\(k\\\\) — количество независимых переменных (без учёта свободного коэффициента \\\\(\\beta_0\\\\)), \\\\(\\hat{y}_i\\\\) — предсказанные значения модели."
      ],
      "metadata": {
        "id": "_rJuoKg3mU8d"
      }
    },
    {
      "cell_type": "code",
      "source": [
        "y_pred = np.dot(X_with_const, coefficients)\n",
        "\n",
        "residuals = y - y_pred\n",
        "\n",
        "rss = np.sum(residuals**2)\n",
        "\n",
        "n = X.shape[0]\n",
        "k = X.shape[1]\n",
        "residual_variance = rss / (n - k - 1)\n",
        "\n",
        "print(f\"Остаточная дисперсия (σ²): {residual_variance:.2f}\")"
      ],
      "metadata": {
        "colab": {
          "base_uri": "https://localhost:8080/"
        },
        "id": "Mawy71Nhl15E",
        "outputId": "05297f28-a161-426b-a006-573e68eb0e83"
      },
      "execution_count": 19,
      "outputs": [
        {
          "output_type": "stream",
          "name": "stdout",
          "text": [
            "Остаточная дисперсия (σ²): 68179410013.81\n"
          ]
        }
      ]
    },
    {
      "cell_type": "markdown",
      "source": [
        "Доверительные интервалы коэффициентов линейной регрессии\n",
        "\n",
        "Для коэффициента $\\beta_j$ доверительный интервал уровня $1-\\alpha$ вычисляется по формуле:\n",
        "\n",
        "$$\n",
        "\\hat{\\beta}_j \\pm t_{1-\\alpha/2, n-k-1} \\cdot \\text{SE}(\\hat{\\beta}_j),\n",
        "$$\n",
        "\n",
        "где:\n",
        "- $\\hat{\\beta}_j$ — МНК-оценка коэффициента,\n",
        "- $t_{1-\\alpha/2, n-k-1}$ — квантиль $t$-распределения,\n",
        "- $\\text{SE}(\\hat{\\beta}_j)$ — стандартная ошибка,\n",
        "- $n$ — число наблюдений,\n",
        "- $k$ — число регрессоров.\n",
        "\n",
        "При этом Стандартная ошибка коэффициента\n",
        "\n",
        "$$\n",
        "\\text{SE}(\\hat{\\beta}_j) = \\sqrt{\\hat{\\sigma}^2 \\cdot \\left[ (\\mathbf{X}^T\\mathbf{X})^{-1} \\right]_{jj}},\n",
        "$$\n",
        "\n",
        "где:\n",
        "- $\\hat{\\sigma}^2 = \\frac{1}{n-k-1}\\sum_{i=1}^n (y_i - \\hat{y}_i)^2$,\n",
        "- $\\mathbf{X}$ — матрица регрессоров,\n",
        "- $n$ — число наблюдений,\n",
        "- $k$ — число регрессоров."
      ],
      "metadata": {
        "id": "J71e-xo2npQC"
      }
    },
    {
      "cell_type": "code",
      "source": [
        "from scipy.stats import t\n",
        "\n",
        "n = X_with_const.shape[0]\n",
        "k = X_with_const.shape[1] - 1\n",
        "\n",
        "residuals = y - X_with_const @ coefficients\n",
        "rss = np.sum(residuals**2)\n",
        "sigma_squared = rss / (n - k - 1)\n",
        "\n",
        "XTX_inv = np.linalg.inv(X_with_const.T @ X_with_const)\n",
        "cov_matrix = sigma_squared * XTX_inv\n",
        "\n",
        "std_errors = np.sqrt(np.diag(cov_matrix))\n",
        "\n",
        "alpha = 0.05\n",
        "t_critical = t.ppf(1 - alpha/2, df=n - k - 1)\n",
        "\n",
        "conf_intervals = []\n",
        "for i in range(len(coefficients)):\n",
        "    coef = coefficients[i, 0]\n",
        "    se = std_errors[i]\n",
        "    lower = coef - t_critical * se\n",
        "    upper = coef + t_critical * se\n",
        "    conf_intervals.append((lower, upper))\n",
        "\n",
        "coef_names = ['Intercept'] + ['sqft_living', 'sqft_lot', 'sqft_above']\n",
        "\n",
        "print(\"Доверительные интервалы (95%):\")\n",
        "for name, interval in zip(coef_names, conf_intervals):\n",
        "    print(f\"{name}: [{interval[0]:.6f}, {interval[1]:.6f}]\")"
      ],
      "metadata": {
        "colab": {
          "base_uri": "https://localhost:8080/"
        },
        "id": "cT7em1REnHLM",
        "outputId": "94bdbb61-6b9c-4f4e-e298-958b93df8652"
      },
      "execution_count": 22,
      "outputs": [
        {
          "output_type": "stream",
          "name": "stdout",
          "text": [
            "Доверительные интервалы (95%):\n",
            "Intercept: [-50157.305600, -32732.941611]\n",
            "sqft_living: [288.272297, 304.030988]\n",
            "sqft_lot: [-0.363713, -0.192655]\n",
            "sqft_above: [-25.659665, -8.147197]\n"
          ]
        }
      ]
    },
    {
      "cell_type": "markdown",
      "source": [
        "Коэффициент детерминации \\\\( R^2 \\\\) определяется по формуле:\n",
        "\n",
        "$$\n",
        "R^2 = 1 - \\frac{\\sum_{i=1}^n (y_i - \\hat{y}_i)^2}{\\sum_{i=1}^n (y_i - \\bar{y})^2}\n",
        "$$\n",
        "\n",
        "где:\n",
        "- $y$ - вектор зависимой переменной,\n",
        "- $̂y$ - вектор оценок зависимой переменной,\n",
        "- $̄y$ – среднее значение зависимой переменной\n"
      ],
      "metadata": {
        "id": "Z1MKVJ4erCfg"
      }
    },
    {
      "cell_type": "code",
      "source": [
        "y_pred = X_with_const @ coefficients\n",
        "\n",
        "rss = np.sum((y - y_pred)**2)\n",
        "tss = np.sum((y - np.mean(y))**2)\n",
        "\n",
        "r_squared = 1 - rss / tss\n",
        "\n",
        "print(f\"R²: {r_squared:.4f}\")"
      ],
      "metadata": {
        "colab": {
          "base_uri": "https://localhost:8080/"
        },
        "id": "8n7wNis9ql78",
        "outputId": "9d41ac34-556f-43ab-92f2-04b9bcf6f2e9"
      },
      "execution_count": 23,
      "outputs": [
        {
          "output_type": "stream",
          "name": "stdout",
          "text": [
            "R²: 0.4942\n"
          ]
        }
      ]
    },
    {
      "cell_type": "markdown",
      "source": [
        "**Проверим гипотезы:**\n",
        "\n",
        "\n",
        "\n",
        "1.   Чем больше жилая площадь \\\\(x_1\\\\), тем больше цена \\\\(y\\\\).\n",
        "\n",
        "Нулевая гипотеза: \\\\(H_0:β_1=0\\\\)\n",
        "\n",
        "Альтернатива: \\\\(H_1:β_1>0\\\\)\n",
        "\n",
        "Статистика t-теста:\n",
        "\n",
        "$$\n",
        "t=\\frac{\\hat{β}_1-0}{SE(\\hat{β}_1)}\n",
        "$$\n",
        "\n",
        "где \\\\(SE(\\hat{β}_1)\\\\) - стандартная ошибка коэффициента\n",
        "\n",
        "Если \\\\(p < 0.05\\\\) и \\\\(\\hat{β}_1>0\\\\), гипотеза \\\\(H_0\\\\) неверна.\n",
        "\n",
        "2.   Цена зависит от \\\\(x_2\\\\) `sqft_lot`\n",
        "\n",
        "Нулевая гипотеза: \\\\(H_0:β_2=0\\\\)\n",
        "\n",
        "Альтернатива: \\\\(H_1:β_2\\neq0\\\\)\n",
        "\n",
        "Статистика t-теста:\n",
        "\n",
        "$$\n",
        "t=\\frac{\\hat{β}_2}{SE(\\hat{β}_2)}\n",
        "$$\n",
        "\n",
        "Если \\\\(p < 0.05\\\\), гипотеза \\\\(H_0\\\\) неверна.\n",
        "\n",
        "3.   Одновременное равенство нулю коэффициентов при \\\\(x_1\\\\) и \\\\(x_3\\\\)\n",
        "\n",
        "Нулевая гипотеза: \\\\(H_0:β_1=β_3=0\\\\)\n",
        "\n",
        "Альтернатива: \\\\(H_1:β_1 || β_3\\neq0\\\\)\n",
        "\n",
        "Статистика F-теста:\n",
        "\n",
        "$$\n",
        "F=\\frac{(RSS_0-RSS)/q}{RSS/(n-k-1)}\n",
        "$$\n",
        "\n",
        "где \\\\(RSS_0\\\\) - остаточная сумма квадратов модели без \\\\(x_1\\\\) и \\\\(x_3\\\\), \\\\(RSS\\\\) - остаточная сумма квадратов полной модели, \\\\(q=2\\\\) - количество ограничений,  \\\\(k=3\\\\) - количество предикторов в полной модели.\n",
        "\n",
        "Если \\\\(p < 0.05\\\\), гипотеза \\\\(H_0\\\\) неверна."
      ],
      "metadata": {
        "id": "Kv2u5Roz9W58"
      }
    },
    {
      "cell_type": "code",
      "source": [
        "from scipy.stats import t, f\n",
        "\n",
        "coef_names = ['Intercept', 'sqft_living', 'sqft_lot', 'sqft_above']\n",
        "coef_dict = dict(zip(coef_names, coefficients.flatten()))\n",
        "std_err_dict = dict(zip(coef_names, std_errors))\n",
        "\n",
        "# 1. Проверка: Чем больше жилая площадь, тем больше цена\n",
        "print(\"\\nПроверка: Чем больше жилая площадь, тем больше цена\")\n",
        "coef = coef_dict['sqft_living']\n",
        "se = std_err_dict['sqft_living']\n",
        "\n",
        "t_stat = coef / se\n",
        "p_value = 2 * (1 - t.cdf(np.abs(t_stat), df=n-k-1))\n",
        "\n",
        "print(f\"Коэффициент: {coef:.4f}, p-value: {p_value:.4f}\")\n",
        "if p_value < 0.05 and coef > 0:\n",
        "    print(\"Подтверждено: жилая площадь влияет на цену пропорционально.\")\n",
        "else:\n",
        "    print(\"Нет подтверждения.\")\n",
        "\n",
        "# 2. Проверка: Цена зависит от 'sqft_lot'\n",
        "print(\"\\nПроверка: Цена зависит от 'sqft_lot'\")\n",
        "coef = coef_dict['sqft_lot']\n",
        "se = std_err_dict['sqft_lot']\n",
        "\n",
        "t_stat = coef / se\n",
        "p_value = 2 * (1 - t.cdf(np.abs(t_stat), df=n-k-1))\n",
        "\n",
        "print(f\"Коэффициент: {coef:.4f}, p-value: {p_value:.4f}\")\n",
        "if p_value < 0.05:\n",
        "    print(\"Подтверждено: цена зависит от sqft_lot.\")\n",
        "else:\n",
        "    print(\"Нет подтверждения.\")\n",
        "\n",
        "# 3. Проверка гипотезы H₀: β_sqft_living = β_sqft_above = 0\n",
        "print(\"\\nПроверка гипотезы H₀: β_sqft_living = β_sqft_above = 0\")\n",
        "\n",
        "rss_full = np.sum((y - X_with_const @ coefficients)**2)\n",
        "\n",
        "X_restricted = np.column_stack([X_with_const[:, 0], X_with_const[:, 2]])\n",
        "XTX_restricted = X_restricted.T @ X_restricted\n",
        "coefficients_restricted = np.linalg.inv(XTX_restricted) @ X_restricted.T @ y\n",
        "rss_restricted = np.sum((y - X_restricted @ coefficients_restricted)**2)\n",
        "\n",
        "q = 2\n",
        "f_stat = ((rss_restricted - rss_full)/q) / (rss_full/(n - k - 1))\n",
        "p_value_f = 1 - f.cdf(f_stat, q, n-k-1)\n",
        "\n",
        "print(f\"F-статистика = {f_stat:.2f}, p-value: {p_value_f:.4f}\")\n",
        "if p_value_f < 0.05:\n",
        "    print(\"Отвергаем H₀: хотя бы один коэффициент не равен нулю.\")\n",
        "else:\n",
        "    print(\"Нет оснований отвергнуть H₀.\")"
      ],
      "metadata": {
        "colab": {
          "base_uri": "https://localhost:8080/"
        },
        "id": "y5CwLiNp9Xcx",
        "outputId": "34562853-f097-4988-b920-dc96cfdab12b"
      },
      "execution_count": 28,
      "outputs": [
        {
          "output_type": "stream",
          "name": "stdout",
          "text": [
            "\n",
            "Проверка: Чем больше жилая площадь, тем больше цена\n",
            "Коэффициент: 296.1516, p-value: 0.0000\n",
            "Подтверждено: жилая площадь влияет на цену положительно.\n",
            "\n",
            "Проверка: Цена зависит от 'sqft_lot'\n",
            "Коэффициент: -0.2782, p-value: 0.0000\n",
            "Подтверждено: цена зависит от sqft_lot.\n",
            "\n",
            "Проверка гипотезы H₀: β_sqft_living = β_sqft_above = 0\n",
            "F-статистика = 10385.91, p-value: 0.0000\n",
            "Отвергаем H₀: хотя бы один коэффициент не равен нулю.\n"
          ]
        }
      ]
    },
    {
      "cell_type": "markdown",
      "source": [
        "# Задание №2"
      ],
      "metadata": {
        "id": "S8RYblczkBgi"
      }
    },
    {
      "cell_type": "code",
      "source": [
        "!pip install -q gdown\n",
        "import gdown\n",
        "\n",
        "file_id = \"14L_y0LOAebuuqh8PllOw64cJQwVkmlV6\"\n",
        "file = \"exams_dataset\"\n",
        "\n",
        "gdown.download(f\"https://drive.google.com/uc?id={file_id}\", file, quiet=False)\n",
        "\n",
        "import pandas as pd\n",
        "\n",
        "df = pd.read_csv(file)"
      ],
      "metadata": {
        "colab": {
          "base_uri": "https://localhost:8080/"
        },
        "id": "uiVm4Pu03q24",
        "outputId": "db66035e-a86c-45b3-9e23-61172aff969c"
      },
      "execution_count": 30,
      "outputs": [
        {
          "output_type": "stream",
          "name": "stderr",
          "text": [
            "Downloading...\n",
            "From: https://drive.google.com/uc?id=14L_y0LOAebuuqh8PllOw64cJQwVkmlV6\n",
            "To: /content/exams_dataset\n",
            "100%|██████████| 72.0k/72.0k [00:00<00:00, 57.3MB/s]\n"
          ]
        }
      ]
    },
    {
      "cell_type": "markdown",
      "source": [
        "Проверим гипотезу о равенстве средних на каждом уровне фактора с помощью модели однофакторного дисперсионного анализа.\n",
        "\n",
        "Фактор - этническая/национальная группа `race/ethnicity`.\n",
        "\n",
        "Выходная перемнная - суммарный балл за все три экзамена `math score` + `reading score` + `writing score`.\n",
        "\n",
        "Гипотезы:\n",
        "\n",
        "Нулевая гипотеза (средние значения во всех группах равны): \\\\(H_0:\\mu_1=\\mu_1=...=\\mu_k\\\\)\n",
        "\n",
        "Альтернатива: \\\\(H_1:∃i, j ∈ \\{1, ..., k\\} : \\mu_i \\neq \\mu_j\\\\)\n",
        "\n",
        "$$\n",
        "F = \\frac{MS_{межгрупповая}}{MS_{внутригрупповая}} = \\frac{SS_{межгрупповая}/df_{межгрупповая}}{SS_{внутригрупповая}/df_{внутригрупповая}}\n",
        "$$\n",
        "$$\n",
        "SS_{общая} = \\sum_{i=1}^k \\sum_{j=1}^{n_i} (y_{ij} - \\bar{y})^2\n",
        "$$\n",
        "$$\n",
        "SS_{межгрупповая} = \\sum_{i=1}^k n_i (\\bar{y}_i - \\bar{y})^2\n",
        "$$\n",
        "$$\n",
        "SS_{внутригрупповая} = \\sum_{i=1}^k \\sum_{j=1}^{n_i} (y_{ij} - \\bar{y}_i)^2\n",
        "$$\n",
        "$$\n",
        "df_{межгрупповая} = k - 1\n",
        "$$\n",
        "$$\n",
        "df_{внутригрупповая} = N - k\n",
        "$$\n",
        "\n",
        "где:\n",
        "- $k$ - число групп,\n",
        "- $N$ - число наблюдений,\n",
        "- $n_i$ - размер каждой группы,\n",
        "- $\\bar{y}_i$ - среднее в группе $i$,\n",
        "- $\\bar{y}$ - общее среднее"
      ],
      "metadata": {
        "id": "-OTWxgxe37uj"
      }
    },
    {
      "cell_type": "code",
      "source": [
        "df['total_score'] = df[['math score', 'reading score', 'writing score']].sum(axis=1)\n",
        "\n",
        "factor_col = 'race/ethnicity'\n",
        "levels = df[factor_col].unique()\n",
        "groups = [df[df[factor_col] == lvl]['total_score'].values for lvl in levels]\n",
        "\n",
        "k = len(levels)\n",
        "n_i = [len(g) for g in groups]\n",
        "N = sum(n_i)\n",
        "grand_mean = df['total_score'].mean()\n",
        "\n",
        "ssb = sum(n * (g.mean() - grand_mean)**2 for n, g in zip(n_i, groups))\n",
        "ssw = sum(((g - g.mean())**2).sum() for g in groups)\n",
        "\n",
        "df_between = k - 1\n",
        "df_within  = N - k\n",
        "\n",
        "msb = ssb / df_between\n",
        "msw = ssw / df_within\n",
        "\n",
        "F_stat = msb / msw\n",
        "p_value = 1 - f.cdf(F_stat, df_between, df_within)\n",
        "\n",
        "print(f\"Фактор «{factor_col}»:\")\n",
        "print(\"Уровни фактора:\", levels)\n",
        "print(\"Размеры групп:\", n_i)\n",
        "print(\"Средние по группам:\", [float(round(g.mean(), 2)) for g in groups])\n",
        "print(f\"\\nSSB = {ssb:.2f}, df_between = {df_between}\")\n",
        "print(f\"SSW = {ssw:.2f}, df_within  = {df_within}\")\n",
        "print(f\"MSB = {msb:.2f}, MSW = {msw:.2f}\")\n",
        "print(f\"F = {F_stat:.3f}\")\n",
        "print(f\"p-value = {p_value:.4f}\")\n",
        "\n",
        "alpha = 0.05\n",
        "if p_value < alpha:\n",
        "    print(f\"\\nПри α = {alpha:.2f} отвергаем нулевую гипотезу о равенстве средних.\")\n",
        "else:\n",
        "    print(f\"\\nПри α = {alpha:.2f} недостаточно оснований отвергнуть нулевую гипотезу.\")\n"
      ],
      "metadata": {
        "id": "QXNuOlFdokZH",
        "outputId": "3641d3a5-f9dd-402b-94b0-1ecc3364fa01",
        "colab": {
          "base_uri": "https://localhost:8080/"
        }
      },
      "execution_count": 36,
      "outputs": [
        {
          "output_type": "stream",
          "name": "stdout",
          "text": [
            "Фактор «race/ethnicity»:\n",
            "Уровни фактора: ['group B' 'group D' 'group A' 'group C' 'group E']\n",
            "Размеры групп: [204, 261, 77, 324, 134]\n",
            "Средние по группам: [195.06, 209.54, 191.66, 194.98, 223.81]\n",
            "\n",
            "SSB = 112381.64, df_between = 4\n",
            "SSW = 1953413.14, df_within  = 995\n",
            "MSB = 28095.41, MSW = 1963.23\n",
            "F = 14.311\n",
            "p-value = 0.0000\n",
            "\n",
            "При α = 0.05 отвергаем нулевую гипотезу о равенстве средних.\n"
          ]
        }
      ]
    }
  ]
}